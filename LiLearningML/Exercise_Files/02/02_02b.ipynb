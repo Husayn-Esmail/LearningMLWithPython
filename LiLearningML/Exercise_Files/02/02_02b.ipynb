{
 "cells": [
  {
   "cell_type": "markdown",
   "metadata": {},
   "source": [
    "# How to Import Data in Python"
   ]
  },
  {
   "cell_type": "markdown",
   "metadata": {},
   "source": [
    "## Learning Objectives\n",
    "One of the reasons why Python is such a popular programming language for machine learning is because it supports some very powerful and easy to use packages which are purpose-built for data analysis. One of these packages is the **pandas** package. In this exercise, you will get a brief introduction to the pandas package and how to import data using functions provided by the pandas package. By the end of this tutorial, you will have learned:\n",
    "\n",
    "+ what a pandas Series is\n",
    "+ what a pandas DataFrame is\n",
    "+ how to import data from a CSV file\n",
    "+ how to import data from an Excel file"
   ]
  },
  {
   "cell_type": "markdown",
   "metadata": {
    "colab_type": "text",
    "id": "rgzeumtubBxE"
   },
   "source": [
    "## The pandas Package"
   ]
  },
  {
   "cell_type": "code",
   "execution_count": 2,
   "metadata": {
    "colab": {},
    "colab_type": "code",
    "id": "i8NQe2iYbBxK"
   },
   "outputs": [],
   "source": [
    "import pandas as pd"
   ]
  },
  {
   "cell_type": "markdown",
   "metadata": {},
   "source": [
    "## The pandas Series"
   ]
  },
  {
   "cell_type": "code",
   "execution_count": 3,
   "metadata": {},
   "outputs": [
    {
     "data": {
      "text/plain": [
       "0          Brazil\n",
       "1          Russia\n",
       "2           India\n",
       "3           China\n",
       "4    South Africa\n",
       "dtype: object"
      ]
     },
     "execution_count": 3,
     "metadata": {},
     "output_type": "execute_result"
    }
   ],
   "source": [
    "members = [\"Brazil\", \"Russia\", \"India\", \"China\", \"South Africa\"]\n",
    "brics1 = pd.Series(members)\n",
    "brics1"
   ]
  },
  {
   "cell_type": "code",
   "execution_count": null,
   "metadata": {},
   "outputs": [
    {
     "ename": "",
     "evalue": "",
     "output_type": "error",
     "traceback": [
      "\u001b[1;31mFailed to start the Kernel. \n",
      "request to http://localhost:8888/api/sessions?1653504626684 failed, reason: getaddrinfo EEXIST localhost. \n",
      "View Jupyter <a href='command:jupyter.viewOutput'>log</a> for further details."
     ]
    }
   ],
   "source": []
  },
  {
   "cell_type": "markdown",
   "metadata": {},
   "source": []
  },
  {
   "cell_type": "markdown",
   "metadata": {},
   "source": [
    "## The pandas DataFrame"
   ]
  },
  {
   "cell_type": "code",
   "execution_count": null,
   "metadata": {
    "colab": {},
    "colab_type": "code",
    "id": "Nzcoz81tbByT"
   },
   "outputs": [
    {
     "ename": "",
     "evalue": "",
     "output_type": "error",
     "traceback": [
      "\u001b[1;31mFailed to start the Kernel. \n",
      "request to http://localhost:8888/api/sessions?1653504626684 failed, reason: getaddrinfo EEXIST localhost. \n",
      "View Jupyter <a href='command:jupyter.viewOutput'>log</a> for further details."
     ]
    }
   ],
   "source": [
    "members = {\"country\": [\"Brazil\", \"Russia\", \"India\", \"China\", \"South Africa\"],\n",
    "        \"capital\": [\"Brasilia\", \"Moscow\", \"New Delhi\", \"Beijing\", \"Pretoria\"],\n",
    "        \"gdp\": [2750, 1658, 3202, 15270, 370],\n",
    "        \"literacy\":[.944, .997, .721, .964, .943],\n",
    "        \"expectancy\": [76.8, 72.7, 68.8, 76.4, 63.6],\n",
    "        \"population\": [210.87, 143.96, 1367.09, 1415.05, 57.4]}\n"
   ]
  },
  {
   "cell_type": "code",
   "execution_count": null,
   "metadata": {
    "scrolled": true
   },
   "outputs": [
    {
     "ename": "",
     "evalue": "",
     "output_type": "error",
     "traceback": [
      "\u001b[1;31mFailed to start the Kernel. \n",
      "request to http://localhost:8888/api/sessions?1653504626684 failed, reason: getaddrinfo EEXIST localhost. \n",
      "View Jupyter <a href='command:jupyter.viewOutput'>log</a> for further details."
     ]
    }
   ],
   "source": []
  },
  {
   "cell_type": "code",
   "execution_count": null,
   "metadata": {},
   "outputs": [
    {
     "ename": "",
     "evalue": "",
     "output_type": "error",
     "traceback": [
      "\u001b[1;31mFailed to start the Kernel. \n",
      "request to http://localhost:8888/api/sessions?1653504626684 failed, reason: getaddrinfo EEXIST localhost. \n",
      "View Jupyter <a href='command:jupyter.viewOutput'>log</a> for further details."
     ]
    }
   ],
   "source": [
    "members = [[\"Brazil\", \"Brasilia\", 2750, 0.944, 76.8, 210.87],\n",
    "                     [\"Russia\", \"Moscow\", 1658, 0.997, 72.7, 143.96],\n",
    "                     [\"India\", \"New Delhi\", 3202, 0.721, 68.8, 1367.09],\n",
    "                     [\"China\", \"Beijing\", 15270, 0.964, 76.4, 1415.05],\n",
    "                     [\"South Africa\", \"Pretoria\", 370, 0.943, 63.6, 57.4]]\n",
    "labels = [\"country\", \"capital\", \"gdp\", \"literacy\", \"expectancy\", \"population\"]\n"
   ]
  },
  {
   "cell_type": "markdown",
   "metadata": {},
   "source": [
    "## How to import data from a CSV file"
   ]
  },
  {
   "cell_type": "code",
   "execution_count": null,
   "metadata": {},
   "outputs": [
    {
     "ename": "",
     "evalue": "",
     "output_type": "error",
     "traceback": [
      "\u001b[1;31mFailed to start the Kernel. \n",
      "request to http://localhost:8888/api/sessions?1653504626684 failed, reason: getaddrinfo EEXIST localhost. \n",
      "View Jupyter <a href='command:jupyter.viewOutput'>log</a> for further details."
     ]
    }
   ],
   "source": []
  },
  {
   "cell_type": "markdown",
   "metadata": {},
   "source": [
    "## How to import data from an Excel file"
   ]
  },
  {
   "cell_type": "code",
   "execution_count": null,
   "metadata": {},
   "outputs": [
    {
     "ename": "",
     "evalue": "",
     "output_type": "error",
     "traceback": [
      "\u001b[1;31mFailed to start the Kernel. \n",
      "request to http://localhost:8888/api/sessions?1653504626684 failed, reason: getaddrinfo EEXIST localhost. \n",
      "View Jupyter <a href='command:jupyter.viewOutput'>log</a> for further details."
     ]
    }
   ],
   "source": []
  },
  {
   "cell_type": "code",
   "execution_count": null,
   "metadata": {},
   "outputs": [
    {
     "ename": "",
     "evalue": "",
     "output_type": "error",
     "traceback": [
      "\u001b[1;31mFailed to start the Kernel. \n",
      "request to http://localhost:8888/api/sessions?1653504626684 failed, reason: getaddrinfo EEXIST localhost. \n",
      "View Jupyter <a href='command:jupyter.viewOutput'>log</a> for further details."
     ]
    }
   ],
   "source": [
    "brics6 = pd.read_excel(\"brics.xlsx\")\n",
    "brics6"
   ]
  }
 ],
 "metadata": {
  "interpreter": {
   "hash": "ef89e50000c29ab209437c5f743931ffe95aab31d11586f385820f1a9cdeee29"
  },
  "kernelspec": {
   "display_name": "Python 3.10.4 ('mlvenv': venv)",
   "language": "python",
   "name": "python3"
  },
  "language_info": {
   "codemirror_mode": {
    "name": "ipython",
    "version": 3
   },
   "file_extension": ".py",
   "mimetype": "text/x-python",
   "name": "python",
   "nbconvert_exporter": "python",
   "pygments_lexer": "ipython3",
   "version": "3.10.4"
  }
 },
 "nbformat": 4,
 "nbformat_minor": 4
}
